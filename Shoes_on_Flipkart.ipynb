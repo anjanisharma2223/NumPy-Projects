{
 "cells": [
  {
   "cell_type": "code",
   "execution_count": 1,
   "id": "20dfaa93",
   "metadata": {},
   "outputs": [],
   "source": [
    "from bs4 import BeautifulSoup\n",
    "import requests\n",
    "import pandas as pd"
   ]
  },
  {
   "cell_type": "code",
   "execution_count": 2,
   "id": "16126236",
   "metadata": {
    "scrolled": true
   },
   "outputs": [
    {
     "name": "stdout",
     "output_type": "stream",
     "text": [
      "https://www.flipkart.com/search?q=shoes&as=on&as-show=on&otracker=AS_Query_TrendingAutoSuggest_1_0_na_na_na&otracker1=AS_Query_TrendingAutoSuggest_1_0_na_na_na&as-pos=1&as-type=HISTORY&suggestionId=shoes&requestId=6847c7d9-8e63-4651-85d9-9e17950087c7&page=1\n",
      "https://www.flipkart.com/search?q=shoes&as=on&as-show=on&otracker=AS_Query_TrendingAutoSuggest_1_0_na_na_na&otracker1=AS_Query_TrendingAutoSuggest_1_0_na_na_na&as-pos=1&as-type=HISTORY&suggestionId=shoes&requestId=6847c7d9-8e63-4651-85d9-9e17950087c7&page=2\n",
      "https://www.flipkart.com/search?q=shoes&as=on&as-show=on&otracker=AS_Query_TrendingAutoSuggest_1_0_na_na_na&otracker1=AS_Query_TrendingAutoSuggest_1_0_na_na_na&as-pos=1&as-type=HISTORY&suggestionId=shoes&requestId=6847c7d9-8e63-4651-85d9-9e17950087c7&page=3\n",
      "https://www.flipkart.com/search?q=shoes&as=on&as-show=on&otracker=AS_Query_TrendingAutoSuggest_1_0_na_na_na&otracker1=AS_Query_TrendingAutoSuggest_1_0_na_na_na&as-pos=1&as-type=HISTORY&suggestionId=shoes&requestId=6847c7d9-8e63-4651-85d9-9e17950087c7&page=4\n",
      "https://www.flipkart.com/search?q=shoes&as=on&as-show=on&otracker=AS_Query_TrendingAutoSuggest_1_0_na_na_na&otracker1=AS_Query_TrendingAutoSuggest_1_0_na_na_na&as-pos=1&as-type=HISTORY&suggestionId=shoes&requestId=6847c7d9-8e63-4651-85d9-9e17950087c7&page=5\n",
      "https://www.flipkart.com/search?q=shoes&as=on&as-show=on&otracker=AS_Query_TrendingAutoSuggest_1_0_na_na_na&otracker1=AS_Query_TrendingAutoSuggest_1_0_na_na_na&as-pos=1&as-type=HISTORY&suggestionId=shoes&requestId=6847c7d9-8e63-4651-85d9-9e17950087c7&page=6\n",
      "https://www.flipkart.com/search?q=shoes&as=on&as-show=on&otracker=AS_Query_TrendingAutoSuggest_1_0_na_na_na&otracker1=AS_Query_TrendingAutoSuggest_1_0_na_na_na&as-pos=1&as-type=HISTORY&suggestionId=shoes&requestId=6847c7d9-8e63-4651-85d9-9e17950087c7&page=7\n",
      "https://www.flipkart.com/search?q=shoes&as=on&as-show=on&otracker=AS_Query_TrendingAutoSuggest_1_0_na_na_na&otracker1=AS_Query_TrendingAutoSuggest_1_0_na_na_na&as-pos=1&as-type=HISTORY&suggestionId=shoes&requestId=6847c7d9-8e63-4651-85d9-9e17950087c7&page=8\n"
     ]
    }
   ],
   "source": [
    "for i in range(2,10):\n",
    "    url = \"https://www.flipkart.com/search?q=shoes&as=on&as-show=on&otracker=AS_Query_TrendingAutoSuggest_1_0_na_na_na&otracker1=AS_Query_TrendingAutoSuggest_1_0_na_na_na&as-pos=1&as-type=HISTORY&suggestionId=shoes&requestId=6847c7d9-8e63-4651-85d9-9e17950087c7&page=\"+str(i)\n",
    "    r = requests.get(url)\n",
    "    soup = BeautifulSoup(r.text,\"lxml\")\n",
    "    box = soup.find(\"div\",class_=\"_1YokD2 _3Mn1Gg\")\n",
    "    np = soup.find(\"a\", class_=\"_1LKTO3\").get(\"href\")\n",
    "    cnp=\"https://www.flipkart.com\"+np\n",
    "    print(cnp)"
   ]
  },
  {
   "cell_type": "code",
   "execution_count": 3,
   "id": "74a6cc8e",
   "metadata": {},
   "outputs": [],
   "source": [
    "Product_name = []\n",
    "Prices = []"
   ]
  },
  {
   "cell_type": "code",
   "execution_count": 4,
   "id": "62db75ba",
   "metadata": {
    "scrolled": true
   },
   "outputs": [
    {
     "name": "stdout",
     "output_type": "stream",
     "text": [
      "     Product Name  Prices\n",
      "0        URBANBOX    ₹299\n",
      "1           TPENT    ₹444\n",
      "2          AJANTA    ₹289\n",
      "3          CAMPUS    ₹749\n",
      "4          CAMPUS    ₹989\n",
      "..            ...     ...\n",
      "395  Allen Cooper  ₹1,157\n",
      "396      Afrojack    ₹679\n",
      "397       BIG FOX    ₹684\n",
      "398      Vellinto    ₹699\n",
      "399        LANCER    ₹673\n",
      "\n",
      "[400 rows x 2 columns]\n"
     ]
    }
   ],
   "source": [
    "for i in range(2,12):\n",
    "    url = \"https://www.flipkart.com/search?q=shoes&as=on&as-show=on&otracker=AS_Query_TrendingAutoSuggest_1_0_na_na_na&otracker1=AS_Query_TrendingAutoSuggest_1_0_na_na_na&as-pos=1&as-type=HISTORY&suggestionId=shoes&requestId=6847c7d9-8e63-4651-85d9-9e17950087c7&page=\"+str(i)\n",
    "    r = requests.get(url)\n",
    "    soup = BeautifulSoup(r.text,\"lxml\")\n",
    "    box = soup.find(\"div\",class_=\"_1YokD2 _3Mn1Gg\") \n",
    "    names = box.find_all(\"div\",class_=\"_2WkVRV\")\n",
    "    for i in names:\n",
    "        name = i.text\n",
    "        Product_name.append(name)\n",
    "    prices = box.find_all(\"div\",class_=\"_30jeq3\")\n",
    "    for i in prices:\n",
    "        price = i.text\n",
    "        Prices.append(price)\n",
    "df = pd.DataFrame({\"Product Name\":Product_name,\"Prices\":Prices})\n",
    "print(df)"
   ]
  },
  {
   "cell_type": "code",
   "execution_count": 6,
   "id": "a6b13819",
   "metadata": {
    "scrolled": false
   },
   "outputs": [],
   "source": [
    "df[\"Prices\"] = df[\"Prices\"].apply(lambda x : x[1:])"
   ]
  },
  {
   "cell_type": "code",
   "execution_count": 7,
   "id": "d3734e03",
   "metadata": {},
   "outputs": [
    {
     "data": {
      "text/html": [
       "<div>\n",
       "<style scoped>\n",
       "    .dataframe tbody tr th:only-of-type {\n",
       "        vertical-align: middle;\n",
       "    }\n",
       "\n",
       "    .dataframe tbody tr th {\n",
       "        vertical-align: top;\n",
       "    }\n",
       "\n",
       "    .dataframe thead th {\n",
       "        text-align: right;\n",
       "    }\n",
       "</style>\n",
       "<table border=\"1\" class=\"dataframe\">\n",
       "  <thead>\n",
       "    <tr style=\"text-align: right;\">\n",
       "      <th></th>\n",
       "      <th>Product Name</th>\n",
       "      <th>Prices</th>\n",
       "    </tr>\n",
       "  </thead>\n",
       "  <tbody>\n",
       "    <tr>\n",
       "      <th>0</th>\n",
       "      <td>URBANBOX</td>\n",
       "      <td>299</td>\n",
       "    </tr>\n",
       "    <tr>\n",
       "      <th>1</th>\n",
       "      <td>TPENT</td>\n",
       "      <td>444</td>\n",
       "    </tr>\n",
       "    <tr>\n",
       "      <th>2</th>\n",
       "      <td>AJANTA</td>\n",
       "      <td>289</td>\n",
       "    </tr>\n",
       "    <tr>\n",
       "      <th>3</th>\n",
       "      <td>CAMPUS</td>\n",
       "      <td>749</td>\n",
       "    </tr>\n",
       "    <tr>\n",
       "      <th>4</th>\n",
       "      <td>CAMPUS</td>\n",
       "      <td>989</td>\n",
       "    </tr>\n",
       "  </tbody>\n",
       "</table>\n",
       "</div>"
      ],
      "text/plain": [
       "  Product Name Prices\n",
       "0     URBANBOX    299\n",
       "1        TPENT    444\n",
       "2       AJANTA    289\n",
       "3       CAMPUS    749\n",
       "4       CAMPUS    989"
      ]
     },
     "execution_count": 7,
     "metadata": {},
     "output_type": "execute_result"
    }
   ],
   "source": [
    "df.head()"
   ]
  },
  {
   "cell_type": "code",
   "execution_count": 8,
   "id": "84c864eb",
   "metadata": {},
   "outputs": [],
   "source": [
    "df.to_csv(\"Flipkart_Shoes.csv\")"
   ]
  }
 ],
 "metadata": {
  "kernelspec": {
   "display_name": "Python 3 (ipykernel)",
   "language": "python",
   "name": "python3"
  },
  "language_info": {
   "codemirror_mode": {
    "name": "ipython",
    "version": 3
   },
   "file_extension": ".py",
   "mimetype": "text/x-python",
   "name": "python",
   "nbconvert_exporter": "python",
   "pygments_lexer": "ipython3",
   "version": "3.9.12"
  }
 },
 "nbformat": 4,
 "nbformat_minor": 5
}
