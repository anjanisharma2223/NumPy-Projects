{
 "cells": [
  {
   "cell_type": "code",
   "execution_count": 1,
   "id": "de48a0a2",
   "metadata": {},
   "outputs": [],
   "source": [
    "from bs4 import BeautifulSoup\n",
    "import requests\n",
    "import pandas as pd"
   ]
  },
  {
   "cell_type": "code",
   "execution_count": 2,
   "id": "13fbefd8",
   "metadata": {},
   "outputs": [],
   "source": [
    "Product_name = []\n",
    "Prices = []\n",
    "Rating = []"
   ]
  },
  {
   "cell_type": "code",
   "execution_count": 3,
   "id": "6d15ac9f",
   "metadata": {},
   "outputs": [
    {
     "name": "stdout",
     "output_type": "stream",
     "text": [
      "                                    Product Name     Prices Rating\n",
      "0             vivo T2 Pro 5G (Dune Gold, 128 GB)    ₹23,999    4.5\n",
      "1        vivo T2 Pro 5G (New Moon Black, 256 GB)    ₹24,999    4.5\n",
      "2             vivo T2 Pro 5G (Dune Gold, 256 GB)    ₹24,999    4.5\n",
      "3         realme 11x 5G (Midnight Black, 128 GB)    ₹14,999    4.4\n",
      "4        vivo T2 Pro 5G (New Moon Black, 128 GB)    ₹23,999    4.5\n",
      "..                                           ...        ...    ...\n",
      "235  SAMSUNG Galaxy A14 5G (Light Green, 128 GB)    ₹16,999    4.1\n",
      "236       REDMI Note 12 5G (Matte Black, 256 GB)    ₹18,999    4.1\n",
      "237               APPLE iPhone 13 (Blue, 128 GB)    ₹52,990    4.6\n",
      "238  APPLE iPhone 15 Pro (Blue Titanium, 128 GB)  ₹1,30,990    4.7\n",
      "239     realme Narzo 60 5G (Mars Orange, 256 GB)    ₹19,999    4.3\n",
      "\n",
      "[240 rows x 3 columns]\n"
     ]
    }
   ],
   "source": [
    "for i in range(2,12):\n",
    "    url = \"https://www.flipkart.com/search?q=mobiles+5g&sid=tyy%2C4io&as=on&as-show=on&otracker=AS_QueryStore_OrganicAutoSuggest_2_7_na_na_na&otracker1=AS_QueryStore_OrganicAutoSuggest_2_7_na_na_na&as-pos=2&as-type=RECENT&suggestionId=mobiles+5g%7CMobiles&requestId=f2934c55-998d-4431-9fba-f770871652d7&as-backfill=on&page=\"+str(i)\n",
    "    r = requests.get(url)\n",
    "    soup = BeautifulSoup(r.text,\"lxml\")\n",
    "    box = soup.find(\"div\",class_=\"_1YokD2 _3Mn1Gg\") \n",
    "    names = box.find_all(\"div\",class_=\"_4rR01T\")\n",
    "    for i in names:\n",
    "        name = i.text\n",
    "        Product_name.append(name)\n",
    "    prices = box.find_all(\"div\",class_=\"_30jeq3 _1_WHN1\")\n",
    "    for i in prices:\n",
    "        price = i.text\n",
    "        Prices.append(price)\n",
    "    ratings = box.find_all(\"div\",class_=\"_3LWZlK\")\n",
    "    for i in ratings:\n",
    "        rating = i.text\n",
    "        Rating.append(rating)\n",
    "df = pd.DataFrame({\"Product Name\":Product_name,\"Prices\":Prices,\"Rating\":Rating})\n",
    "print(df)"
   ]
  },
  {
   "cell_type": "code",
   "execution_count": 4,
   "id": "a5e90644",
   "metadata": {},
   "outputs": [],
   "source": [
    "df[\"Prices\"] = df[\"Prices\"].apply(lambda x : x[1:])"
   ]
  },
  {
   "cell_type": "code",
   "execution_count": 5,
   "id": "20db088a",
   "metadata": {},
   "outputs": [
    {
     "data": {
      "text/html": [
       "<div>\n",
       "<style scoped>\n",
       "    .dataframe tbody tr th:only-of-type {\n",
       "        vertical-align: middle;\n",
       "    }\n",
       "\n",
       "    .dataframe tbody tr th {\n",
       "        vertical-align: top;\n",
       "    }\n",
       "\n",
       "    .dataframe thead th {\n",
       "        text-align: right;\n",
       "    }\n",
       "</style>\n",
       "<table border=\"1\" class=\"dataframe\">\n",
       "  <thead>\n",
       "    <tr style=\"text-align: right;\">\n",
       "      <th></th>\n",
       "      <th>Product Name</th>\n",
       "      <th>Prices</th>\n",
       "      <th>Rating</th>\n",
       "    </tr>\n",
       "  </thead>\n",
       "  <tbody>\n",
       "    <tr>\n",
       "      <th>0</th>\n",
       "      <td>vivo T2 Pro 5G (Dune Gold, 128 GB)</td>\n",
       "      <td>23,999</td>\n",
       "      <td>4.5</td>\n",
       "    </tr>\n",
       "    <tr>\n",
       "      <th>1</th>\n",
       "      <td>vivo T2 Pro 5G (New Moon Black, 256 GB)</td>\n",
       "      <td>24,999</td>\n",
       "      <td>4.5</td>\n",
       "    </tr>\n",
       "    <tr>\n",
       "      <th>2</th>\n",
       "      <td>vivo T2 Pro 5G (Dune Gold, 256 GB)</td>\n",
       "      <td>24,999</td>\n",
       "      <td>4.5</td>\n",
       "    </tr>\n",
       "    <tr>\n",
       "      <th>3</th>\n",
       "      <td>realme 11x 5G (Midnight Black, 128 GB)</td>\n",
       "      <td>14,999</td>\n",
       "      <td>4.4</td>\n",
       "    </tr>\n",
       "    <tr>\n",
       "      <th>4</th>\n",
       "      <td>vivo T2 Pro 5G (New Moon Black, 128 GB)</td>\n",
       "      <td>23,999</td>\n",
       "      <td>4.5</td>\n",
       "    </tr>\n",
       "  </tbody>\n",
       "</table>\n",
       "</div>"
      ],
      "text/plain": [
       "                              Product Name  Prices Rating\n",
       "0       vivo T2 Pro 5G (Dune Gold, 128 GB)  23,999    4.5\n",
       "1  vivo T2 Pro 5G (New Moon Black, 256 GB)  24,999    4.5\n",
       "2       vivo T2 Pro 5G (Dune Gold, 256 GB)  24,999    4.5\n",
       "3   realme 11x 5G (Midnight Black, 128 GB)  14,999    4.4\n",
       "4  vivo T2 Pro 5G (New Moon Black, 128 GB)  23,999    4.5"
      ]
     },
     "execution_count": 5,
     "metadata": {},
     "output_type": "execute_result"
    }
   ],
   "source": [
    "df.head()"
   ]
  },
  {
   "cell_type": "code",
   "execution_count": 6,
   "id": "6eb29148",
   "metadata": {},
   "outputs": [],
   "source": [
    "df.to_csv(\"5G_Mobiles_on_Flipkart.csv\")"
   ]
  }
 ],
 "metadata": {
  "kernelspec": {
   "display_name": "Python 3 (ipykernel)",
   "language": "python",
   "name": "python3"
  },
  "language_info": {
   "codemirror_mode": {
    "name": "ipython",
    "version": 3
   },
   "file_extension": ".py",
   "mimetype": "text/x-python",
   "name": "python",
   "nbconvert_exporter": "python",
   "pygments_lexer": "ipython3",
   "version": "3.9.12"
  }
 },
 "nbformat": 4,
 "nbformat_minor": 5
}
