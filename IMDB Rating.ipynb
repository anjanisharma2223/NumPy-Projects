{
 "cells": [
  {
   "cell_type": "code",
   "execution_count": 1,
   "id": "3fb8b432",
   "metadata": {},
   "outputs": [],
   "source": [
    "# Import Libraries\n",
    "import requests\n",
    "from bs4 import BeautifulSoup\n",
    "import selenium\n",
    "from selenium import webdriver\n",
    "from selenium.webdriver.chrome.service import Service\n",
    "from selenium.webdriver.common.keys import Keys\n",
    "from selenium.webdriver.common.by import By\n",
    "import time\n",
    "import re\n",
    "import pandas as pd"
   ]
  },
  {
   "cell_type": "code",
   "execution_count": 2,
   "id": "e26f59b2",
   "metadata": {},
   "outputs": [],
   "source": [
    "path = \"C:\\\\Users\\\\91636\\\\OneDrive\\\\Desktop\\\\Regex ML\\\\Selenium\\\\chromedriver.exe\" #set driver path "
   ]
  },
  {
   "cell_type": "code",
   "execution_count": 3,
   "id": "965ecb6d",
   "metadata": {},
   "outputs": [],
   "source": [
    "s = Service(path)  #create driver service"
   ]
  },
  {
   "cell_type": "code",
   "execution_count": 4,
   "id": "f2bc7557",
   "metadata": {},
   "outputs": [],
   "source": [
    "driver = webdriver.Chrome(service = s)  #create Chrome driver object\n",
    "url = \"https://www.google.com\"\n",
    "driver.get(url)"
   ]
  },
  {
   "cell_type": "code",
   "execution_count": 5,
   "id": "9fa25bb3",
   "metadata": {},
   "outputs": [],
   "source": [
    "box = driver.find_element(By.XPATH, '//*[@id=\"APjFqb\"]')  #find search box\n",
    "box.send_keys(\"IMDB\")  #enter IMDB in search box\n",
    "box.send_keys(Keys.ENTER)  #hit enter\n",
    "time.sleep(2)"
   ]
  },
  {
   "cell_type": "code",
   "execution_count": 6,
   "id": "f9018562",
   "metadata": {},
   "outputs": [],
   "source": [
    "driver.find_element(By.XPATH, '//*[@id=\"rso\"]/div[1]/div/div/div/div/div/div/div/div[1]/div/span/a/h3').click()  #click first search result\n",
    "time.sleep(2)"
   ]
  },
  {
   "cell_type": "code",
   "execution_count": 7,
   "id": "7e5b4fe1",
   "metadata": {},
   "outputs": [],
   "source": [
    "driver.find_element(By.XPATH, '//*[@id=\"imdbHeader-navDrawerOpen\"]').click()\n",
    "time.sleep(2)"
   ]
  },
  {
   "cell_type": "code",
   "execution_count": 8,
   "id": "5df52e30",
   "metadata": {},
   "outputs": [],
   "source": [
    "driver.find_element(By.XPATH, '//*[@id=\"imdbHeader\"]/div[2]/aside[1]/div/div[2]/div/div[1]/span/div/div/ul/a[3]/span').click()  #open side menu\n",
    "time.sleep(2)"
   ]
  },
  {
   "cell_type": "code",
   "execution_count": 9,
   "id": "3529d201",
   "metadata": {},
   "outputs": [],
   "source": [
    "url = \"https://www.imdb.com/chart/moviemeter/?ref_=nv_mv_mpm\""
   ]
  },
  {
   "cell_type": "code",
   "execution_count": 10,
   "id": "6ab15699",
   "metadata": {},
   "outputs": [
    {
     "data": {
      "text/plain": [
       "<Response [403]>"
      ]
     },
     "execution_count": 10,
     "metadata": {},
     "output_type": "execute_result"
    }
   ],
   "source": [
    "requests.get(url)  #GET request to url"
   ]
  },
  {
   "cell_type": "code",
   "execution_count": 11,
   "id": "5ed707f8",
   "metadata": {},
   "outputs": [],
   "source": [
    "headers = {'User-Agent': 'Mozilla/5.0 (Windows NT 10.0; Win64; x64) AppleWebKit/537.36 (KHTML, like Gecko) Chrome/91.0.4472.124 Safari/537.36'}"
   ]
  },
  {
   "cell_type": "code",
   "execution_count": 12,
   "id": "dcf8df0f",
   "metadata": {},
   "outputs": [
    {
     "data": {
      "text/plain": [
       "<Response [200]>"
      ]
     },
     "execution_count": 12,
     "metadata": {},
     "output_type": "execute_result"
    }
   ],
   "source": [
    "source = requests.get(url, headers = headers)\n",
    "source"
   ]
  },
  {
   "cell_type": "code",
   "execution_count": 13,
   "id": "6b79c883",
   "metadata": {},
   "outputs": [],
   "source": [
    "soup = BeautifulSoup(source.content, 'html.parser')  #create soup\n",
    "# soup"
   ]
  },
  {
   "cell_type": "code",
   "execution_count": 14,
   "id": "d78202d6",
   "metadata": {},
   "outputs": [],
   "source": [
    "Rank = []\n",
    "Movie_Name = []\n",
    "Year = []\n",
    "Rating = []\n",
    "Votes = []"
   ]
  },
  {
   "cell_type": "code",
   "execution_count": 15,
   "id": "701f95b1",
   "metadata": {},
   "outputs": [],
   "source": [
    "movie_data = soup.findAll('div', attrs = {'class':'ipc-metadata-list-summary-item__c'})  #find all movie divs"
   ]
  },
  {
   "cell_type": "code",
   "execution_count": 16,
   "id": "bb9e448d",
   "metadata": {},
   "outputs": [],
   "source": [
    "for i in movie_data:\n",
    "    rank = i.find('div', class_='sc-b8b74125-0 eukXAN meter-const-ranking sc-be6f1408-6 dGVRjf cli-meter-title-header').text\n",
    "    rank = re.sub(r'\\([^)]*\\)', '', rank)  #remove text in brackets\n",
    "    Rank.append(rank)\n",
    "    \n",
    "    movie = i.a.h3.text\n",
    "    Movie_Name.append(movie)\n",
    "    \n",
    "    value = i.find_all('span',class_ = \"sc-be6f1408-8 fcCUPU cli-title-metadata-item\")\n",
    "    \n",
    "    year = value[0].text\n",
    "    Year.append(year)\n",
    "    \n",
    "    rating = i.find('span', class_= \"sc-be6f1408-1 dbnleL\").text.replace('Rate','')\n",
    "    rating = re.sub(r'\\([^)]*\\)', '', rating)\n",
    "    Rating.append(rating)\n",
    "    \n",
    "    vote = i.find('span', class_= \"sc-be6f1408-1 dbnleL\").text.replace('Rate','')\n",
    "    vote = re.findall(r'\\(([^)]*)\\)', vote)  #extract text in brackets\n",
    "    Votes.append(vote)"
   ]
  },
  {
   "cell_type": "code",
   "execution_count": 17,
   "id": "b37fc6c0",
   "metadata": {},
   "outputs": [
    {
     "data": {
      "text/html": [
       "<div>\n",
       "<style scoped>\n",
       "    .dataframe tbody tr th:only-of-type {\n",
       "        vertical-align: middle;\n",
       "    }\n",
       "\n",
       "    .dataframe tbody tr th {\n",
       "        vertical-align: top;\n",
       "    }\n",
       "\n",
       "    .dataframe thead th {\n",
       "        text-align: right;\n",
       "    }\n",
       "</style>\n",
       "<table border=\"1\" class=\"dataframe\">\n",
       "  <thead>\n",
       "    <tr style=\"text-align: right;\">\n",
       "      <th></th>\n",
       "      <th>Rank</th>\n",
       "      <th>Name of movie</th>\n",
       "      <th>Year of release</th>\n",
       "      <th>Rating</th>\n",
       "      <th>Votes</th>\n",
       "    </tr>\n",
       "  </thead>\n",
       "  <tbody>\n",
       "    <tr>\n",
       "      <th>0</th>\n",
       "      <td>1</td>\n",
       "      <td>Poor Things</td>\n",
       "      <td>2023</td>\n",
       "      <td>8.4</td>\n",
       "      <td>[79K]</td>\n",
       "    </tr>\n",
       "    <tr>\n",
       "      <th>1</th>\n",
       "      <td>2</td>\n",
       "      <td>Argylle</td>\n",
       "      <td>2024</td>\n",
       "      <td>6.0</td>\n",
       "      <td>[18K]</td>\n",
       "    </tr>\n",
       "    <tr>\n",
       "      <th>2</th>\n",
       "      <td>3</td>\n",
       "      <td>Saltburn</td>\n",
       "      <td>2023</td>\n",
       "      <td>7.1</td>\n",
       "      <td>[165K]</td>\n",
       "    </tr>\n",
       "    <tr>\n",
       "      <th>3</th>\n",
       "      <td>4</td>\n",
       "      <td>The Beekeeper</td>\n",
       "      <td>2024</td>\n",
       "      <td>6.4</td>\n",
       "      <td>[43K]</td>\n",
       "    </tr>\n",
       "    <tr>\n",
       "      <th>4</th>\n",
       "      <td>5</td>\n",
       "      <td>The Ministry of Ungentlemanly Warfare</td>\n",
       "      <td>2024</td>\n",
       "      <td></td>\n",
       "      <td>[]</td>\n",
       "    </tr>\n",
       "    <tr>\n",
       "      <th>...</th>\n",
       "      <td>...</td>\n",
       "      <td>...</td>\n",
       "      <td>...</td>\n",
       "      <td>...</td>\n",
       "      <td>...</td>\n",
       "    </tr>\n",
       "    <tr>\n",
       "      <th>95</th>\n",
       "      <td>96</td>\n",
       "      <td>Queenpins</td>\n",
       "      <td>2021</td>\n",
       "      <td>6.4</td>\n",
       "      <td>[21K]</td>\n",
       "    </tr>\n",
       "    <tr>\n",
       "      <th>96</th>\n",
       "      <td>97</td>\n",
       "      <td>Fast X</td>\n",
       "      <td>2023</td>\n",
       "      <td>5.8</td>\n",
       "      <td>[114K]</td>\n",
       "    </tr>\n",
       "    <tr>\n",
       "      <th>97</th>\n",
       "      <td>98</td>\n",
       "      <td>The Family Plan</td>\n",
       "      <td>2023</td>\n",
       "      <td>6.3</td>\n",
       "      <td>[35K]</td>\n",
       "    </tr>\n",
       "    <tr>\n",
       "      <th>98</th>\n",
       "      <td>99</td>\n",
       "      <td>American Star</td>\n",
       "      <td>2024</td>\n",
       "      <td>5.3</td>\n",
       "      <td>[758]</td>\n",
       "    </tr>\n",
       "    <tr>\n",
       "      <th>99</th>\n",
       "      <td>100</td>\n",
       "      <td>Ambulance</td>\n",
       "      <td>2022</td>\n",
       "      <td>6.1</td>\n",
       "      <td>[95K]</td>\n",
       "    </tr>\n",
       "  </tbody>\n",
       "</table>\n",
       "<p>100 rows × 5 columns</p>\n",
       "</div>"
      ],
      "text/plain": [
       "    Rank                          Name of movie Year of release Rating   Votes\n",
       "0     1                             Poor Things            2023   8.4    [79K]\n",
       "1     2                                 Argylle            2024   6.0    [18K]\n",
       "2     3                                Saltburn            2023   7.1   [165K]\n",
       "3     4                           The Beekeeper            2024   6.4    [43K]\n",
       "4     5   The Ministry of Ungentlemanly Warfare            2024             []\n",
       "..   ...                                    ...             ...    ...     ...\n",
       "95   96                               Queenpins            2021   6.4    [21K]\n",
       "96   97                                  Fast X            2023   5.8   [114K]\n",
       "97   98                         The Family Plan            2023   6.3    [35K]\n",
       "98   99                           American Star            2024   5.3    [758]\n",
       "99  100                               Ambulance            2022   6.1    [95K]\n",
       "\n",
       "[100 rows x 5 columns]"
      ]
     },
     "execution_count": 17,
     "metadata": {},
     "output_type": "execute_result"
    }
   ],
   "source": [
    "#create dataframe\n",
    "df = pd.DataFrame({'Rank': Rank,'Name of movie': Movie_Name, 'Year of release': Year,'Rating': Rating, 'Votes': Votes})\n",
    "df"
   ]
  },
  {
   "cell_type": "code",
   "execution_count": 18,
   "id": "8c6b6a5b",
   "metadata": {},
   "outputs": [],
   "source": [
    "df.to_csv(\"IMDB Rating.csv\")  #save to csv"
   ]
  }
 ],
 "metadata": {
  "kernelspec": {
   "display_name": "Python 3 (ipykernel)",
   "language": "python",
   "name": "python3"
  },
  "language_info": {
   "codemirror_mode": {
    "name": "ipython",
    "version": 3
   },
   "file_extension": ".py",
   "mimetype": "text/x-python",
   "name": "python",
   "nbconvert_exporter": "python",
   "pygments_lexer": "ipython3",
   "version": "3.9.12"
  }
 },
 "nbformat": 4,
 "nbformat_minor": 5
}
